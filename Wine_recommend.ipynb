{
 "cells": [
  {
   "cell_type": "markdown",
   "metadata": {},
   "source": [
    "Kaggle 데이터(https://www.kaggle.com/zynicide/wine-reviews)의 리뷰를 기반으로 \n",
    "리뷰 → 와인의 맛을 수치화시킴 \n",
    "와인의 맛은 (https://bettertastingwine.com/wine_tasting_aid.html)를 기준으로 분류\n",
    "\n",
    "\n",
    "수치화 된 와인의 맛 table에서\n",
    "1. 와인생산국, 2. 예산(USD), 3.사용자취향을 고려한 와인 추천함수를 제작함\n",
    "사용자 취향의 [크기와 방향]을 적절히 고려하기 위해 유클리드거리, 코사인유사도를 활용한 두가지 함수의\n",
    "정확도를 측정하여 마무리함\n",
    "\n",
    "사용 라이브러리 : dplyr, stringr, sqldf, colorspace, lsa"
   ]
  },
  {
   "cell_type": "code",
   "execution_count": null,
   "metadata": {},
   "outputs": [],
   "source": [
    "print('start')\n",
    "setwd('C://R_temp/wine-reviews')\n",
    "getwd()\n",
    "start = Sys.time()\n",
    "raw_wine = read.csv('winemag-data-130k-v1.csv',stringsAsFactors = F)\n",
    "end = Sys.time()\n",
    "print(end-start)\n",
    "#names\n",
    "cols = names(raw_wine)#칼럼명을 확인한다.\n",
    "cols\n",
    "\n",
    "\n",
    "#getting library :dplyr\n",
    "library(dplyr)\n",
    "library(stringr)\n",
    "library(sqldf)\n",
    "library(colorspace)\n",
    "library(lsa)"
   ]
  },
  {
   "cell_type": "code",
   "execution_count": 3,
   "metadata": {},
   "outputs": [
    {
     "data": {
      "text/html": [
       "<ol class=list-inline>\n",
       "\t<li>'title'</li>\n",
       "\t<li>'variety'</li>\n",
       "\t<li>'winery'</li>\n",
       "\t<li>'province'</li>\n",
       "\t<li>'region_1'</li>\n",
       "\t<li>'country'</li>\n",
       "\t<li>'description'</li>\n",
       "\t<li>'designation'</li>\n",
       "\t<li>'points'</li>\n",
       "\t<li>'price'</li>\n",
       "</ol>\n"
      ],
      "text/latex": [
       "\\begin{enumerate*}\n",
       "\\item 'title'\n",
       "\\item 'variety'\n",
       "\\item 'winery'\n",
       "\\item 'province'\n",
       "\\item 'region\\_1'\n",
       "\\item 'country'\n",
       "\\item 'description'\n",
       "\\item 'designation'\n",
       "\\item 'points'\n",
       "\\item 'price'\n",
       "\\end{enumerate*}\n"
      ],
      "text/markdown": [
       "1. 'title'\n",
       "2. 'variety'\n",
       "3. 'winery'\n",
       "4. 'province'\n",
       "5. 'region_1'\n",
       "6. 'country'\n",
       "7. 'description'\n",
       "8. 'designation'\n",
       "9. 'points'\n",
       "10. 'price'\n",
       "\n",
       "\n"
      ],
      "text/plain": [
       " [1] \"title\"       \"variety\"     \"winery\"      \"province\"    \"region_1\"   \n",
       " [6] \"country\"     \"description\" \"designation\" \"points\"      \"price\"      "
      ]
     },
     "metadata": {},
     "output_type": "display_data"
    },
    {
     "name": "stdout",
     "output_type": "stream",
     "text": [
      " chr [1:200] \"Aromas include tropical fruit, broom, brimstone and dried herb. The palate isn't overly expressive, offering un\"| __truncated__ ...\n"
     ]
    },
    {
     "data": {
      "text/html": [
       "<ol class=list-inline>\n",
       "\t<li>'Aromas include tropical fruit, broom, brimstone and dried herb. The palate isn\\'t overly expressive, offering unripened apple, citrus and dried sage alongside brisk acidity.'</li>\n",
       "\t<li><span style=white-space:pre-wrap>'This is ripe and fruity, a wine that is smooth while still structured. Firm tannins are filled out with juicy red berry fruits and freshened with acidity. It\\'s  already drinkable, although it will certainly be better from 2016.'</span></li>\n",
       "\t<li>'Tart and snappy, the flavors of lime flesh and rind dominate. Some green pineapple pokes through, with crisp acidity underscoring the flavors. The wine was all stainless-steel fermented.'</li>\n",
       "\t<li>'Pineapple rind, lemon pith and orange blossom start off the aromas. The palate is a bit more opulent, with notes of honey-drizzled guava and mango giving way to a slightly astringent, semidry finish.'</li>\n",
       "\t<li>'Much like the regular bottling from 2012, this comes across as rather rough and tannic, with rustic, earthy, herbal characteristics. Nonetheless, if you think of it as a pleasantly unfussy country wine, it\\'s a good companion to a hearty winter stew.'</li>\n",
       "</ol>\n"
      ],
      "text/latex": [
       "\\begin{enumerate*}\n",
       "\\item 'Aromas include tropical fruit, broom, brimstone and dried herb. The palate isn\\textbackslash{}'t overly expressive, offering unripened apple, citrus and dried sage alongside brisk acidity.'\n",
       "\\item 'This is ripe and fruity, a wine that is smooth while still structured. Firm tannins are filled out with juicy red berry fruits and freshened with acidity. It\\textbackslash{}'s  already drinkable, although it will certainly be better from 2016.'\n",
       "\\item 'Tart and snappy, the flavors of lime flesh and rind dominate. Some green pineapple pokes through, with crisp acidity underscoring the flavors. The wine was all stainless-steel fermented.'\n",
       "\\item 'Pineapple rind, lemon pith and orange blossom start off the aromas. The palate is a bit more opulent, with notes of honey-drizzled guava and mango giving way to a slightly astringent, semidry finish.'\n",
       "\\item 'Much like the regular bottling from 2012, this comes across as rather rough and tannic, with rustic, earthy, herbal characteristics. Nonetheless, if you think of it as a pleasantly unfussy country wine, it\\textbackslash{}'s a good companion to a hearty winter stew.'\n",
       "\\end{enumerate*}\n"
      ],
      "text/markdown": [
       "1. 'Aromas include tropical fruit, broom, brimstone and dried herb. The palate isn\\'t overly expressive, offering unripened apple, citrus and dried sage alongside brisk acidity.'\n",
       "2. <span style=white-space:pre-wrap>'This is ripe and fruity, a wine that is smooth while still structured. Firm tannins are filled out with juicy red berry fruits and freshened with acidity. It\\'s  already drinkable, although it will certainly be better from 2016.'</span>\n",
       "3. 'Tart and snappy, the flavors of lime flesh and rind dominate. Some green pineapple pokes through, with crisp acidity underscoring the flavors. The wine was all stainless-steel fermented.'\n",
       "4. 'Pineapple rind, lemon pith and orange blossom start off the aromas. The palate is a bit more opulent, with notes of honey-drizzled guava and mango giving way to a slightly astringent, semidry finish.'\n",
       "5. 'Much like the regular bottling from 2012, this comes across as rather rough and tannic, with rustic, earthy, herbal characteristics. Nonetheless, if you think of it as a pleasantly unfussy country wine, it\\'s a good companion to a hearty winter stew.'\n",
       "\n",
       "\n"
      ],
      "text/plain": [
       "[1] \"Aromas include tropical fruit, broom, brimstone and dried herb. The palate isn't overly expressive, offering unripened apple, citrus and dried sage alongside brisk acidity.\"                                                                             \n",
       "[2] \"This is ripe and fruity, a wine that is smooth while still structured. Firm tannins are filled out with juicy red berry fruits and freshened with acidity. It's  already drinkable, although it will certainly be better from 2016.\"                      \n",
       "[3] \"Tart and snappy, the flavors of lime flesh and rind dominate. Some green pineapple pokes through, with crisp acidity underscoring the flavors. The wine was all stainless-steel fermented.\"                                                               \n",
       "[4] \"Pineapple rind, lemon pith and orange blossom start off the aromas. The palate is a bit more opulent, with notes of honey-drizzled guava and mango giving way to a slightly astringent, semidry finish.\"                                                  \n",
       "[5] \"Much like the regular bottling from 2012, this comes across as rather rough and tannic, with rustic, earthy, herbal characteristics. Nonetheless, if you think of it as a pleasantly unfussy country wine, it's a good companion to a hearty winter stew.\""
      ]
     },
     "metadata": {},
     "output_type": "display_data"
    },
    {
     "data": {
      "text/html": [
       "<ol class=list-inline>\n",
       "\t<li>'aromas include tropical fruit broom brimstone and dried herb the palate isnt overly expressive offering unripened apple citrus and dried sage alongside brisk acidity'</li>\n",
       "\t<li><span style=white-space:pre-wrap>'this is ripe and fruity a wine that is smooth while still structured firm tannins are filled out with juicy red berry fruits and freshened with acidity its  already drinkable although it will certainly be better from 2016'</span></li>\n",
       "\t<li>'tart and snappy the flavors of lime flesh and rind dominate some green pineapple pokes through with crisp acidity underscoring the flavors the wine was all stainlesssteel fermented'</li>\n",
       "\t<li>'pineapple rind lemon pith and orange blossom start off the aromas the palate is a bit more opulent with notes of honeydrizzled guava and mango giving way to a slightly astringent semidry finish'</li>\n",
       "\t<li>'much like the regular bottling from 2012 this comes across as rather rough and tannic with rustic earthy herbal characteristics nonetheless if you think of it as a pleasantly unfussy country wine its a good companion to a hearty winter stew'</li>\n",
       "</ol>\n"
      ],
      "text/latex": [
       "\\begin{enumerate*}\n",
       "\\item 'aromas include tropical fruit broom brimstone and dried herb the palate isnt overly expressive offering unripened apple citrus and dried sage alongside brisk acidity'\n",
       "\\item 'this is ripe and fruity a wine that is smooth while still structured firm tannins are filled out with juicy red berry fruits and freshened with acidity its  already drinkable although it will certainly be better from 2016'\n",
       "\\item 'tart and snappy the flavors of lime flesh and rind dominate some green pineapple pokes through with crisp acidity underscoring the flavors the wine was all stainlesssteel fermented'\n",
       "\\item 'pineapple rind lemon pith and orange blossom start off the aromas the palate is a bit more opulent with notes of honeydrizzled guava and mango giving way to a slightly astringent semidry finish'\n",
       "\\item 'much like the regular bottling from 2012 this comes across as rather rough and tannic with rustic earthy herbal characteristics nonetheless if you think of it as a pleasantly unfussy country wine its a good companion to a hearty winter stew'\n",
       "\\end{enumerate*}\n"
      ],
      "text/markdown": [
       "1. 'aromas include tropical fruit broom brimstone and dried herb the palate isnt overly expressive offering unripened apple citrus and dried sage alongside brisk acidity'\n",
       "2. <span style=white-space:pre-wrap>'this is ripe and fruity a wine that is smooth while still structured firm tannins are filled out with juicy red berry fruits and freshened with acidity its  already drinkable although it will certainly be better from 2016'</span>\n",
       "3. 'tart and snappy the flavors of lime flesh and rind dominate some green pineapple pokes through with crisp acidity underscoring the flavors the wine was all stainlesssteel fermented'\n",
       "4. 'pineapple rind lemon pith and orange blossom start off the aromas the palate is a bit more opulent with notes of honeydrizzled guava and mango giving way to a slightly astringent semidry finish'\n",
       "5. 'much like the regular bottling from 2012 this comes across as rather rough and tannic with rustic earthy herbal characteristics nonetheless if you think of it as a pleasantly unfussy country wine its a good companion to a hearty winter stew'\n",
       "\n",
       "\n"
      ],
      "text/plain": [
       "[1] \"aromas include tropical fruit broom brimstone and dried herb the palate isnt overly expressive offering unripened apple citrus and dried sage alongside brisk acidity\"                                                                           \n",
       "[2] \"this is ripe and fruity a wine that is smooth while still structured firm tannins are filled out with juicy red berry fruits and freshened with acidity its  already drinkable although it will certainly be better from 2016\"                   \n",
       "[3] \"tart and snappy the flavors of lime flesh and rind dominate some green pineapple pokes through with crisp acidity underscoring the flavors the wine was all stainlesssteel fermented\"                                                            \n",
       "[4] \"pineapple rind lemon pith and orange blossom start off the aromas the palate is a bit more opulent with notes of honeydrizzled guava and mango giving way to a slightly astringent semidry finish\"                                               \n",
       "[5] \"much like the regular bottling from 2012 this comes across as rather rough and tannic with rustic earthy herbal characteristics nonetheless if you think of it as a pleasantly unfussy country wine its a good companion to a hearty winter stew\""
      ]
     },
     "metadata": {},
     "output_type": "display_data"
    },
    {
     "data": {
      "text/html": [
       "'character'"
      ],
      "text/latex": [
       "'character'"
      ],
      "text/markdown": [
       "'character'"
      ],
      "text/plain": [
       "[1] \"character\""
      ]
     },
     "metadata": {},
     "output_type": "display_data"
    }
   ],
   "source": [
    "#-------------------------------------------------------------------------------------\n",
    "# 01. [목적:처리 시간 감소를 위한 1~200 리뷰 추출,칼럼순서정렬)] / [방법:인덱싱]\n",
    "#     [생성변수: sample] from [소스:raw_wine]\n",
    "\n",
    "sample = raw_wine[1:200,]\n",
    "\n",
    "## [중요] 200개 샘플 작동 확인 후, Line26(바로아래) 활성화 시킬 것.\n",
    "#sample = raw_wine\n",
    "\n",
    "cols[c(12,13,14,7,8,2,3,4,5,6)]\n",
    "#title,variety,winery,province,region_1,country,description,designation,points,price 순으로 정렬.\n",
    "sample = sample[c(12,13,14,7,8,2,3,4,5,6)]\n",
    "\n",
    "#-------------------------------------------------------------------------------------\n",
    "# 02. factor변수를 알맞은 형태로 변경 (다른 변수도 추후 변경해야함)\n",
    "sample$price = as.character(sample$price)%>%as.numeric()\n",
    "sample$points = as.character(sample$points)%>%as.numeric()\n",
    "sample$description = as.character(sample$description)\n",
    "\n",
    "#-------------------------------------------------------------------------------------\n",
    "# 03.[목적: 특수문자제거] / [방법 : stringr 패키지 사용]\n",
    "#    [생성변수:reviews] from [소스:sample]  \n",
    "\n",
    "reviews = sample$description\n",
    "str(reviews)\n",
    "reviews = tolower(reviews)#소문자 변환\n",
    "#리뷰의 유니코드,특수문자,한글(변환 상 오류)등을 제거한ㄷ\n",
    "reviews = str_replace_all(reviews,\"[^[:alnum:][:blank:]?&/\\\\-]\", \"\")%>%\n",
    "          str_replace_all( \"[[:punct:]]\", \"\") %>% \n",
    "          str_replace_all(\"\\\\p{Hangul}\",\"\")\n",
    "\n",
    "#특수문자제거확인\n",
    "head(sample$description,5);head(reviews,5)\n",
    "#reviews data type : character\n",
    "class(reviews)\n"
   ]
  },
  {
   "cell_type": "code",
   "execution_count": 4,
   "metadata": {},
   "outputs": [
    {
     "data": {
      "text/plain": [
       "    title             variety             winery            province        \n",
       " Length:200         Length:200         Length:200         Length:200        \n",
       " Class :character   Class :character   Class :character   Class :character  \n",
       " Mode  :character   Mode  :character   Mode  :character   Mode  :character  \n",
       "                                                                            \n",
       "                                                                            \n",
       "                                                                            \n",
       "                                                                            \n",
       "   region_1           country          description        designation       \n",
       " Length:200         Length:200         Length:200         Length:200        \n",
       " Class :character   Class :character   Class :character   Class :character  \n",
       " Mode  :character   Mode  :character   Mode  :character   Mode  :character  \n",
       "                                                                            \n",
       "                                                                            \n",
       "                                                                            \n",
       "                                                                            \n",
       "     points          price           R_fruity       W_fruity     \n",
       " Min.   :85.00   Min.   :  9.00   Min.   :0.00   Min.   :0.0000  \n",
       " 1st Qu.:86.00   1st Qu.: 17.00   1st Qu.:0.50   1st Qu.:0.0000  \n",
       " Median :87.00   Median : 25.00   Median :0.50   Median :0.8333  \n",
       " Mean   :87.94   Mean   : 31.41   Mean   :1.02   Mean   :0.9458  \n",
       " 3rd Qu.:90.00   3rd Qu.: 39.50   3rd Qu.:1.50   3rd Qu.:1.6667  \n",
       " Max.   :92.00   Max.   :112.00   Max.   :5.00   Max.   :5.0000  \n",
       "                 NA's   :13                                      \n",
       "     floral         herb_vege          oak             sum        \n",
       " Min.   :0.0000   Min.   :0.000   Min.   :0.000   Min.   : 0.000  \n",
       " 1st Qu.:0.0000   1st Qu.:0.000   1st Qu.:0.000   1st Qu.: 2.000  \n",
       " Median :0.0000   Median :0.000   Median :0.000   Median : 3.000  \n",
       " Mean   :0.3875   Mean   :0.275   Mean   :0.635   Mean   : 3.263  \n",
       " 3rd Qu.:0.0000   3rd Qu.:0.000   3rd Qu.:1.000   3rd Qu.: 4.000  \n",
       " Max.   :5.0000   Max.   :5.000   Max.   :5.000   Max.   :14.833  \n",
       "                                                                  "
      ]
     },
     "metadata": {},
     "output_type": "display_data"
    }
   ],
   "source": [
    "#-------------------------------------------------------------------------------------\n",
    "# 04.[목적 : 리뷰별 key_words 단어의 개수를 count] / \n",
    "#    [생성변수1:key_words]\n",
    "#    [생성변수2:empty_list]\n",
    "#    [소스2:reviews[i]] -> [생성변수3:split_words] -> [파생변수1:counts] / [방법:for문과 strsplit을 활용] \n",
    "#    \n",
    "\n",
    "\n",
    "# reviews는 현재 200길이의 character 모임 c(review1,review2,review3,....review200) \n",
    "# 리뷰별 count를 담을 그릇(list)를 만든다.\n",
    "\n",
    "\n",
    "#reviews의 길이 200 : i는 1~200까지의 인덱스를 뜻한다. 즉 reviews[i]는 i번째 리뷰 전체를 불러오게됨.\n",
    "word_count = function(keyword){\n",
    "  empty_list = list()\n",
    "  temp = NA\n",
    "  for (i in 1:length(reviews)){\n",
    "    #strsplit은 문자를 잘라 list형태로 반환하기 때문에 unlist를 덧씌운다.\n",
    "    #class(strsplit(reviews[1],' ')) : list\n",
    "    split_words = tolower(unlist(strsplit(reviews[i],' '))) # unlist(list[characters])의 형태(character)\n",
    "    #  split_words별 key_words의 ii번째 단어의 포함을 체크한다.\n",
    "    for (ii in 1:length(keyword)){\n",
    "      #print(keyword[ii])\n",
    "      temp[ii] = sum(grepl(keyword[ii],split_words))\n",
    "      #print(temp[ii])\n",
    "       #1번째 키워드~마지막 키워드까지의 체크값을 더하고, empty_list의[i]번째에 그 합을 기록한다.\n",
    "    counts = sum(temp)}\n",
    "    #counts = sum(grepl(keywords,split_words)) #TRUE=1, FALSE=0이기 때문에 SUM(c(TRUE,FALSE))는 결국 TRUE의 개수를 나타낸다.\n",
    "    #empty_list(그릇)에 i번째 공간(empty_list[i])에 i번째 review의 count를 담는다.[*200번을 반복함] \n",
    "    empty_list[i]=counts\n",
    "  }\n",
    "  return(unlist(empty_list))\n",
    "}\n",
    "\n",
    "R_fruity = c('fruit','blackberr','blackcurrant','blueber','plum','redcurrant','rasber','strawber','cher','prun','berry','berr')\n",
    "W_fruity = c('fruit','lemon','lim','grape','apple','pear','melon')\n",
    "floral = c('floral','rosy','rose','violet','iris','jasmin','orange','blossom','lily','honeysuc')\n",
    "herb_vege = c('herb','vege','menth','mint','eucalyp','liquoric','fennel','dill','rosemar','thyme','grass','capsic')\n",
    "oak = c('oak','vanill','clove','nutmeg','cinnamo','coco','toast','cedar','butterscotch','ginger')\n",
    "\n",
    "sample$R_fruity = word_count(R_fruity)\n",
    "sample$W_fruity = word_count(W_fruity)\n",
    "sample$floral = word_count(floral)\n",
    "sample$herb_vege = word_count(herb_vege)\n",
    "sample$oak = word_count(oak)\n",
    "\n",
    "#각 지표 min max 정규화(사용자 취향 스케일 0~5 단위로 통일)\n",
    "sample$R_fruity = 5*(sample$R_fruity-min(sample$R_fruity))/(max(sample$R_fruity)-min(sample$R_fruity))\n",
    "sample$W_fruity = 5*(sample$W_fruity-min(sample$W_fruity))/(max(sample$W_fruity)-min(sample$W_fruity)) \n",
    "sample$floral = 5*(sample$floral-min(sample$floral))/(max(sample$floral)-min(sample$floral))\n",
    "sample$herb_vege = 5*(sample$herb_vege-min(sample$herb_vege))/(max(sample$herb_vege)-min(sample$herb_vege))\n",
    "sample$oak = 5*(sample$oak-min(sample$oak))/(max(sample$oak)-min(sample$oak))\n",
    "sample$sum = (sample$R_fruity+sample$W_fruity+sample$floral+sample$herb_vege+sample$oak)\n",
    "summary(sample)\n",
    "\n",
    "\n",
    "\n"
   ]
  },
  {
   "cell_type": "code",
   "execution_count": 13,
   "metadata": {},
   "outputs": [
    {
     "name": "stdout",
     "output_type": "stream",
     "text": [
      "STUDENT ID: 2013100385\n",
      "PUT YOUR NAME: SANGSUN HWANG\n",
      "how much do you like fruit flavor(0-5):  5\n",
      "how much do you like white fruit flavor(0-5):  0\n",
      "how muuch do you like floral flavor(0-5): 0\n",
      "how much do you like herbal-vegetal flavor(0-5): 0\n",
      "how much do you like oak taste(0-5):  0\n"
     ]
    }
   ],
   "source": [
    "#-------------------------------------------------------------------------------------\n",
    "#05.[목적 : 사용자 취향의 수집과 저장을 위한 함수 입력형 함수 제작]\n",
    "pr = function(){\n",
    "  #readline('10개 질문이 있습니다. 계속하시려면 Enter를 누르세요.')\n",
    "  ID = readline('STUDENT ID: ')\n",
    "  name = readline('PUT YOUR NAME: ')\n",
    "  R_fruity = as.numeric(readline('how much do you like fruit flavor(0-5):  '))\n",
    "  W_fruity = as.numeric(readline('how much do you like white fruit flavor(0-5):  '))\n",
    "  floral= as.numeric(readline('how muuch do you like floral flavor(0-5): '))\n",
    "  herb_vege =  as.numeric(readline('how much do you like herbal-vegetal flavor(0-5): '))\n",
    "  oak = as.numeric(readline('how much do you like oak taste(0-5):  '))\n",
    "  ANS = data.frame(ID,name,R_fruity,W_fruity,floral,herb_vege,oak)\n",
    "  return(ANS)\n",
    "}\n",
    "\n",
    "ANS = pr()\n"
   ]
  },
  {
   "cell_type": "code",
   "execution_count": 14,
   "metadata": {},
   "outputs": [
    {
     "ename": "ERROR",
     "evalue": "Error in parse(text = x, srcfile = src): <text>:2:9: 예상하지 못한 기호(symbol)입니다.\n1: 2013100385 #고유KEY\n2: SANGSUN HWANG\n           ^\n",
     "output_type": "error",
     "traceback": [
      "Error in parse(text = x, srcfile = src): <text>:2:9: 예상하지 못한 기호(symbol)입니다.\n1: 2013100385 #고유KEY\n2: SANGSUN HWANG\n           ^\nTraceback:\n"
     ]
    }
   ],
   "source": [
    "#고유 key 2013100385 \n",
    "#이름 SANGSUN HWANG\n",
    "#Red_fruit 5\n",
    "#White_fruit 0\n",
    "#Floral 0\n",
    "#herb_vege 0\n",
    "#oak 0\n",
    "ANS"
   ]
  },
  {
   "cell_type": "code",
   "execution_count": 15,
   "metadata": {},
   "outputs": [],
   "source": [
    "#------------------------------------------------------------------------------\n",
    "# 06.[목적 : 유클리드거리를 사용한 추천]\n",
    "# \n",
    "\n",
    "euclid_recommend = function(cnt,prc){\n",
    "  sample = subset(sample,country==cnt)%>%subset(,price<=prc)\n",
    "  head(sample,10)\n",
    "  scores = sample[c(1,11,12,13,14,15)]\n",
    "  A = scores[2:6]\n",
    "  B = ANS[3:7]\n",
    "  distance = NA\n",
    "  for(i in 1:dim(A)[1]){\n",
    "    #print(A[i,])\n",
    "    distance[i] = dist(rbind(A[i,],B,'euclidian'))\n",
    "  }\n",
    "  #print(distance)\n",
    "  scores$rank = min_rank(distance)\n",
    "  result = sqldf(\n",
    "    'SELECT * FROM scores WHERE rank <= 10 ORDER BY rank limit 10'\n",
    "  )\n",
    "  return(result)\n",
    "}\n",
    "#------------------------------------------------------------------------------\n",
    "# 06.[목적 : 코사인유사도를 사용한 추천]\n",
    "# \n",
    "\n",
    "cosine_recommend = function(cnt,prc){\n",
    "  sample = subset(sample,country==cnt)%>%subset(,price<=prc)\n",
    "  head(sample,10)\n",
    "  scores = sample[c(1,11,12,13,14,15)]\n",
    "  A = scores[2:6]\n",
    "  B = ANS[3:7]\n",
    "  similarity = NA\n",
    "  \n",
    "  for(i in 1:dim(A)[1]){\n",
    "    #print(A[i,])\n",
    "    similarity[i] = cosine(as.vector(as.matrix(A[i,])),as.numeric(as.matrix(B)))\n",
    "  }\n",
    "  #print(similarity)\n",
    "  scores$rank = min_rank(-similarity)\n",
    "  result = sqldf(\n",
    "    'SELECT * FROM scores WHERE rank <= 10 ORDER BY rank limit 10'\n",
    "  )\n",
    "  return(result)\n",
    "}"
   ]
  },
  {
   "cell_type": "code",
   "execution_count": 16,
   "metadata": {},
   "outputs": [
    {
     "name": "stderr",
     "output_type": "stream",
     "text": [
      "Warning message in dist(rbind(A[i, ], B, \"euclidian\")):\n",
      "\"강제형변환에 의해 생성된 NA 입니다\"Warning message in distance[i] <- dist(rbind(A[i, ], B, \"euclidian\")):\n",
      "\"number of items to replace is not a multiple of replacement length\"Warning message in dist(rbind(A[i, ], B, \"euclidian\")):\n",
      "\"강제형변환에 의해 생성된 NA 입니다\"Warning message in distance[i] <- dist(rbind(A[i, ], B, \"euclidian\")):\n",
      "\"number of items to replace is not a multiple of replacement length\"Warning message in dist(rbind(A[i, ], B, \"euclidian\")):\n",
      "\"강제형변환에 의해 생성된 NA 입니다\"Warning message in distance[i] <- dist(rbind(A[i, ], B, \"euclidian\")):\n",
      "\"number of items to replace is not a multiple of replacement length\"Warning message in dist(rbind(A[i, ], B, \"euclidian\")):\n",
      "\"강제형변환에 의해 생성된 NA 입니다\"Warning message in distance[i] <- dist(rbind(A[i, ], B, \"euclidian\")):\n",
      "\"number of items to replace is not a multiple of replacement length\"Warning message in dist(rbind(A[i, ], B, \"euclidian\")):\n",
      "\"강제형변환에 의해 생성된 NA 입니다\"Warning message in distance[i] <- dist(rbind(A[i, ], B, \"euclidian\")):\n",
      "\"number of items to replace is not a multiple of replacement length\"Warning message in dist(rbind(A[i, ], B, \"euclidian\")):\n",
      "\"강제형변환에 의해 생성된 NA 입니다\"Warning message in distance[i] <- dist(rbind(A[i, ], B, \"euclidian\")):\n",
      "\"number of items to replace is not a multiple of replacement length\"Warning message in dist(rbind(A[i, ], B, \"euclidian\")):\n",
      "\"강제형변환에 의해 생성된 NA 입니다\"Warning message in distance[i] <- dist(rbind(A[i, ], B, \"euclidian\")):\n",
      "\"number of items to replace is not a multiple of replacement length\"Warning message in dist(rbind(A[i, ], B, \"euclidian\")):\n",
      "\"강제형변환에 의해 생성된 NA 입니다\"Warning message in distance[i] <- dist(rbind(A[i, ], B, \"euclidian\")):\n",
      "\"number of items to replace is not a multiple of replacement length\"Warning message in dist(rbind(A[i, ], B, \"euclidian\")):\n",
      "\"강제형변환에 의해 생성된 NA 입니다\"Warning message in distance[i] <- dist(rbind(A[i, ], B, \"euclidian\")):\n",
      "\"number of items to replace is not a multiple of replacement length\"Warning message in dist(rbind(A[i, ], B, \"euclidian\")):\n",
      "\"강제형변환에 의해 생성된 NA 입니다\"Warning message in distance[i] <- dist(rbind(A[i, ], B, \"euclidian\")):\n",
      "\"number of items to replace is not a multiple of replacement length\"Warning message in dist(rbind(A[i, ], B, \"euclidian\")):\n",
      "\"강제형변환에 의해 생성된 NA 입니다\"Warning message in distance[i] <- dist(rbind(A[i, ], B, \"euclidian\")):\n",
      "\"number of items to replace is not a multiple of replacement length\"Warning message in dist(rbind(A[i, ], B, \"euclidian\")):\n",
      "\"강제형변환에 의해 생성된 NA 입니다\"Warning message in distance[i] <- dist(rbind(A[i, ], B, \"euclidian\")):\n",
      "\"number of items to replace is not a multiple of replacement length\"Warning message in dist(rbind(A[i, ], B, \"euclidian\")):\n",
      "\"강제형변환에 의해 생성된 NA 입니다\"Warning message in distance[i] <- dist(rbind(A[i, ], B, \"euclidian\")):\n",
      "\"number of items to replace is not a multiple of replacement length\"Warning message in dist(rbind(A[i, ], B, \"euclidian\")):\n",
      "\"강제형변환에 의해 생성된 NA 입니다\"Warning message in distance[i] <- dist(rbind(A[i, ], B, \"euclidian\")):\n",
      "\"number of items to replace is not a multiple of replacement length\"Warning message in dist(rbind(A[i, ], B, \"euclidian\")):\n",
      "\"강제형변환에 의해 생성된 NA 입니다\"Warning message in distance[i] <- dist(rbind(A[i, ], B, \"euclidian\")):\n",
      "\"number of items to replace is not a multiple of replacement length\"Warning message in dist(rbind(A[i, ], B, \"euclidian\")):\n",
      "\"강제형변환에 의해 생성된 NA 입니다\"Warning message in distance[i] <- dist(rbind(A[i, ], B, \"euclidian\")):\n",
      "\"number of items to replace is not a multiple of replacement length\"Warning message in dist(rbind(A[i, ], B, \"euclidian\")):\n",
      "\"강제형변환에 의해 생성된 NA 입니다\"Warning message in distance[i] <- dist(rbind(A[i, ], B, \"euclidian\")):\n",
      "\"number of items to replace is not a multiple of replacement length\"Warning message in dist(rbind(A[i, ], B, \"euclidian\")):\n",
      "\"강제형변환에 의해 생성된 NA 입니다\"Warning message in distance[i] <- dist(rbind(A[i, ], B, \"euclidian\")):\n",
      "\"number of items to replace is not a multiple of replacement length\"Warning message in dist(rbind(A[i, ], B, \"euclidian\")):\n",
      "\"강제형변환에 의해 생성된 NA 입니다\"Warning message in distance[i] <- dist(rbind(A[i, ], B, \"euclidian\")):\n",
      "\"number of items to replace is not a multiple of replacement length\"Warning message in dist(rbind(A[i, ], B, \"euclidian\")):\n",
      "\"강제형변환에 의해 생성된 NA 입니다\"Warning message in distance[i] <- dist(rbind(A[i, ], B, \"euclidian\")):\n",
      "\"number of items to replace is not a multiple of replacement length\"Warning message in dist(rbind(A[i, ], B, \"euclidian\")):\n",
      "\"강제형변환에 의해 생성된 NA 입니다\"Warning message in distance[i] <- dist(rbind(A[i, ], B, \"euclidian\")):\n",
      "\"number of items to replace is not a multiple of replacement length\"Warning message in dist(rbind(A[i, ], B, \"euclidian\")):\n",
      "\"강제형변환에 의해 생성된 NA 입니다\"Warning message in distance[i] <- dist(rbind(A[i, ], B, \"euclidian\")):\n",
      "\"number of items to replace is not a multiple of replacement length\"Warning message in dist(rbind(A[i, ], B, \"euclidian\")):\n",
      "\"강제형변환에 의해 생성된 NA 입니다\"Warning message in distance[i] <- dist(rbind(A[i, ], B, \"euclidian\")):\n",
      "\"number of items to replace is not a multiple of replacement length\"Warning message in dist(rbind(A[i, ], B, \"euclidian\")):\n",
      "\"강제형변환에 의해 생성된 NA 입니다\"Warning message in distance[i] <- dist(rbind(A[i, ], B, \"euclidian\")):\n",
      "\"number of items to replace is not a multiple of replacement length\"Warning message in dist(rbind(A[i, ], B, \"euclidian\")):\n",
      "\"강제형변환에 의해 생성된 NA 입니다\"Warning message in distance[i] <- dist(rbind(A[i, ], B, \"euclidian\")):\n",
      "\"number of items to replace is not a multiple of replacement length\"Warning message in dist(rbind(A[i, ], B, \"euclidian\")):\n",
      "\"강제형변환에 의해 생성된 NA 입니다\"Warning message in distance[i] <- dist(rbind(A[i, ], B, \"euclidian\")):\n",
      "\"number of items to replace is not a multiple of replacement length\"Warning message in dist(rbind(A[i, ], B, \"euclidian\")):\n",
      "\"강제형변환에 의해 생성된 NA 입니다\"Warning message in distance[i] <- dist(rbind(A[i, ], B, \"euclidian\")):\n",
      "\"number of items to replace is not a multiple of replacement length\"Warning message in dist(rbind(A[i, ], B, \"euclidian\")):\n",
      "\"강제형변환에 의해 생성된 NA 입니다\"Warning message in distance[i] <- dist(rbind(A[i, ], B, \"euclidian\")):\n",
      "\"number of items to replace is not a multiple of replacement length\"Warning message in dist(rbind(A[i, ], B, \"euclidian\")):\n",
      "\"강제형변환에 의해 생성된 NA 입니다\"Warning message in distance[i] <- dist(rbind(A[i, ], B, \"euclidian\")):\n",
      "\"number of items to replace is not a multiple of replacement length\"Warning message in dist(rbind(A[i, ], B, \"euclidian\")):\n",
      "\"강제형변환에 의해 생성된 NA 입니다\"Warning message in distance[i] <- dist(rbind(A[i, ], B, \"euclidian\")):\n",
      "\"number of items to replace is not a multiple of replacement length\"Warning message in dist(rbind(A[i, ], B, \"euclidian\")):\n",
      "\"강제형변환에 의해 생성된 NA 입니다\"Warning message in distance[i] <- dist(rbind(A[i, ], B, \"euclidian\")):\n",
      "\"number of items to replace is not a multiple of replacement length\"Warning message in dist(rbind(A[i, ], B, \"euclidian\")):\n",
      "\"강제형변환에 의해 생성된 NA 입니다\"Warning message in distance[i] <- dist(rbind(A[i, ], B, \"euclidian\")):\n",
      "\"number of items to replace is not a multiple of replacement length\"Warning message in dist(rbind(A[i, ], B, \"euclidian\")):\n",
      "\"강제형변환에 의해 생성된 NA 입니다\"Warning message in distance[i] <- dist(rbind(A[i, ], B, \"euclidian\")):\n",
      "\"number of items to replace is not a multiple of replacement length\"Warning message in dist(rbind(A[i, ], B, \"euclidian\")):\n",
      "\"강제형변환에 의해 생성된 NA 입니다\"Warning message in distance[i] <- dist(rbind(A[i, ], B, \"euclidian\")):\n",
      "\"number of items to replace is not a multiple of replacement length\"Warning message in dist(rbind(A[i, ], B, \"euclidian\")):\n",
      "\"강제형변환에 의해 생성된 NA 입니다\"Warning message in distance[i] <- dist(rbind(A[i, ], B, \"euclidian\")):\n",
      "\"number of items to replace is not a multiple of replacement length\"Warning message in dist(rbind(A[i, ], B, \"euclidian\")):\n",
      "\"강제형변환에 의해 생성된 NA 입니다\"Warning message in distance[i] <- dist(rbind(A[i, ], B, \"euclidian\")):\n",
      "\"number of items to replace is not a multiple of replacement length\"Warning message in dist(rbind(A[i, ], B, \"euclidian\")):\n",
      "\"강제형변환에 의해 생성된 NA 입니다\"Warning message in distance[i] <- dist(rbind(A[i, ], B, \"euclidian\")):\n",
      "\"number of items to replace is not a multiple of replacement length\"Warning message in dist(rbind(A[i, ], B, \"euclidian\")):\n",
      "\"강제형변환에 의해 생성된 NA 입니다\"Warning message in distance[i] <- dist(rbind(A[i, ], B, \"euclidian\")):\n"
     ]
    },
    {
     "name": "stderr",
     "output_type": "stream",
     "text": [
      "\"number of items to replace is not a multiple of replacement length\"Warning message in dist(rbind(A[i, ], B, \"euclidian\")):\n",
      "\"강제형변환에 의해 생성된 NA 입니다\"Warning message in distance[i] <- dist(rbind(A[i, ], B, \"euclidian\")):\n",
      "\"number of items to replace is not a multiple of replacement length\"Warning message in dist(rbind(A[i, ], B, \"euclidian\")):\n",
      "\"강제형변환에 의해 생성된 NA 입니다\"Warning message in distance[i] <- dist(rbind(A[i, ], B, \"euclidian\")):\n",
      "\"number of items to replace is not a multiple of replacement length\"Warning message in dist(rbind(A[i, ], B, \"euclidian\")):\n",
      "\"강제형변환에 의해 생성된 NA 입니다\"Warning message in distance[i] <- dist(rbind(A[i, ], B, \"euclidian\")):\n",
      "\"number of items to replace is not a multiple of replacement length\"Warning message in dist(rbind(A[i, ], B, \"euclidian\")):\n",
      "\"강제형변환에 의해 생성된 NA 입니다\"Warning message in distance[i] <- dist(rbind(A[i, ], B, \"euclidian\")):\n",
      "\"number of items to replace is not a multiple of replacement length\"Warning message in dist(rbind(A[i, ], B, \"euclidian\")):\n",
      "\"강제형변환에 의해 생성된 NA 입니다\"Warning message in distance[i] <- dist(rbind(A[i, ], B, \"euclidian\")):\n",
      "\"number of items to replace is not a multiple of replacement length\"Warning message in dist(rbind(A[i, ], B, \"euclidian\")):\n",
      "\"강제형변환에 의해 생성된 NA 입니다\"Warning message in distance[i] <- dist(rbind(A[i, ], B, \"euclidian\")):\n",
      "\"number of items to replace is not a multiple of replacement length\"Warning message in dist(rbind(A[i, ], B, \"euclidian\")):\n",
      "\"강제형변환에 의해 생성된 NA 입니다\"Warning message in distance[i] <- dist(rbind(A[i, ], B, \"euclidian\")):\n",
      "\"number of items to replace is not a multiple of replacement length\"Warning message in dist(rbind(A[i, ], B, \"euclidian\")):\n",
      "\"강제형변환에 의해 생성된 NA 입니다\"Warning message in distance[i] <- dist(rbind(A[i, ], B, \"euclidian\")):\n",
      "\"number of items to replace is not a multiple of replacement length\"Warning message in dist(rbind(A[i, ], B, \"euclidian\")):\n",
      "\"강제형변환에 의해 생성된 NA 입니다\"Warning message in distance[i] <- dist(rbind(A[i, ], B, \"euclidian\")):\n",
      "\"number of items to replace is not a multiple of replacement length\"Warning message in dist(rbind(A[i, ], B, \"euclidian\")):\n",
      "\"강제형변환에 의해 생성된 NA 입니다\"Warning message in distance[i] <- dist(rbind(A[i, ], B, \"euclidian\")):\n",
      "\"number of items to replace is not a multiple of replacement length\"Warning message in dist(rbind(A[i, ], B, \"euclidian\")):\n",
      "\"강제형변환에 의해 생성된 NA 입니다\"Warning message in distance[i] <- dist(rbind(A[i, ], B, \"euclidian\")):\n",
      "\"number of items to replace is not a multiple of replacement length\"Warning message in dist(rbind(A[i, ], B, \"euclidian\")):\n",
      "\"강제형변환에 의해 생성된 NA 입니다\"Warning message in distance[i] <- dist(rbind(A[i, ], B, \"euclidian\")):\n",
      "\"number of items to replace is not a multiple of replacement length\"Warning message in dist(rbind(A[i, ], B, \"euclidian\")):\n",
      "\"강제형변환에 의해 생성된 NA 입니다\"Warning message in distance[i] <- dist(rbind(A[i, ], B, \"euclidian\")):\n",
      "\"number of items to replace is not a multiple of replacement length\"Warning message in dist(rbind(A[i, ], B, \"euclidian\")):\n",
      "\"강제형변환에 의해 생성된 NA 입니다\"Warning message in distance[i] <- dist(rbind(A[i, ], B, \"euclidian\")):\n",
      "\"number of items to replace is not a multiple of replacement length\"Warning message in dist(rbind(A[i, ], B, \"euclidian\")):\n",
      "\"강제형변환에 의해 생성된 NA 입니다\"Warning message in distance[i] <- dist(rbind(A[i, ], B, \"euclidian\")):\n",
      "\"number of items to replace is not a multiple of replacement length\"Warning message in dist(rbind(A[i, ], B, \"euclidian\")):\n",
      "\"강제형변환에 의해 생성된 NA 입니다\"Warning message in distance[i] <- dist(rbind(A[i, ], B, \"euclidian\")):\n",
      "\"number of items to replace is not a multiple of replacement length\"Warning message in dist(rbind(A[i, ], B, \"euclidian\")):\n",
      "\"강제형변환에 의해 생성된 NA 입니다\"Warning message in distance[i] <- dist(rbind(A[i, ], B, \"euclidian\")):\n",
      "\"number of items to replace is not a multiple of replacement length\"Warning message in dist(rbind(A[i, ], B, \"euclidian\")):\n",
      "\"강제형변환에 의해 생성된 NA 입니다\"Warning message in distance[i] <- dist(rbind(A[i, ], B, \"euclidian\")):\n",
      "\"number of items to replace is not a multiple of replacement length\"Warning message in dist(rbind(A[i, ], B, \"euclidian\")):\n",
      "\"강제형변환에 의해 생성된 NA 입니다\"Warning message in distance[i] <- dist(rbind(A[i, ], B, \"euclidian\")):\n",
      "\"number of items to replace is not a multiple of replacement length\"Warning message in dist(rbind(A[i, ], B, \"euclidian\")):\n",
      "\"강제형변환에 의해 생성된 NA 입니다\"Warning message in distance[i] <- dist(rbind(A[i, ], B, \"euclidian\")):\n",
      "\"number of items to replace is not a multiple of replacement length\"Warning message in dist(rbind(A[i, ], B, \"euclidian\")):\n",
      "\"강제형변환에 의해 생성된 NA 입니다\"Warning message in distance[i] <- dist(rbind(A[i, ], B, \"euclidian\")):\n",
      "\"number of items to replace is not a multiple of replacement length\"Warning message in dist(rbind(A[i, ], B, \"euclidian\")):\n",
      "\"강제형변환에 의해 생성된 NA 입니다\"Warning message in distance[i] <- dist(rbind(A[i, ], B, \"euclidian\")):\n",
      "\"number of items to replace is not a multiple of replacement length\"Warning message in dist(rbind(A[i, ], B, \"euclidian\")):\n",
      "\"강제형변환에 의해 생성된 NA 입니다\"Warning message in distance[i] <- dist(rbind(A[i, ], B, \"euclidian\")):\n",
      "\"number of items to replace is not a multiple of replacement length\"Warning message in dist(rbind(A[i, ], B, \"euclidian\")):\n",
      "\"강제형변환에 의해 생성된 NA 입니다\"Warning message in distance[i] <- dist(rbind(A[i, ], B, \"euclidian\")):\n",
      "\"number of items to replace is not a multiple of replacement length\"Warning message in dist(rbind(A[i, ], B, \"euclidian\")):\n",
      "\"강제형변환에 의해 생성된 NA 입니다\"Warning message in distance[i] <- dist(rbind(A[i, ], B, \"euclidian\")):\n",
      "\"number of items to replace is not a multiple of replacement length\"Warning message in dist(rbind(A[i, ], B, \"euclidian\")):\n",
      "\"강제형변환에 의해 생성된 NA 입니다\"Warning message in distance[i] <- dist(rbind(A[i, ], B, \"euclidian\")):\n",
      "\"number of items to replace is not a multiple of replacement length\"Warning message in dist(rbind(A[i, ], B, \"euclidian\")):\n",
      "\"강제형변환에 의해 생성된 NA 입니다\"Warning message in distance[i] <- dist(rbind(A[i, ], B, \"euclidian\")):\n",
      "\"number of items to replace is not a multiple of replacement length\"Warning message in dist(rbind(A[i, ], B, \"euclidian\")):\n",
      "\"강제형변환에 의해 생성된 NA 입니다\"Warning message in distance[i] <- dist(rbind(A[i, ], B, \"euclidian\")):\n",
      "\"number of items to replace is not a multiple of replacement length\"Warning message in dist(rbind(A[i, ], B, \"euclidian\")):\n",
      "\"강제형변환에 의해 생성된 NA 입니다\"Warning message in distance[i] <- dist(rbind(A[i, ], B, \"euclidian\")):\n",
      "\"number of items to replace is not a multiple of replacement length\"Warning message in dist(rbind(A[i, ], B, \"euclidian\")):\n",
      "\"강제형변환에 의해 생성된 NA 입니다\"Warning message in distance[i] <- dist(rbind(A[i, ], B, \"euclidian\")):\n",
      "\"number of items to replace is not a multiple of replacement length\"Warning message in dist(rbind(A[i, ], B, \"euclidian\")):\n",
      "\"강제형변환에 의해 생성된 NA 입니다\"Warning message in distance[i] <- dist(rbind(A[i, ], B, \"euclidian\")):\n",
      "\"number of items to replace is not a multiple of replacement length\"Warning message in dist(rbind(A[i, ], B, \"euclidian\")):\n",
      "\"강제형변환에 의해 생성된 NA 입니다\"Warning message in distance[i] <- dist(rbind(A[i, ], B, \"euclidian\")):\n",
      "\"number of items to replace is not a multiple of replacement length\"Warning message in dist(rbind(A[i, ], B, \"euclidian\")):\n",
      "\"강제형변환에 의해 생성된 NA 입니다\"Warning message in distance[i] <- dist(rbind(A[i, ], B, \"euclidian\")):\n",
      "\"number of items to replace is not a multiple of replacement length\"Warning message in dist(rbind(A[i, ], B, \"euclidian\")):\n",
      "\"강제형변환에 의해 생성된 NA 입니다\"Warning message in distance[i] <- dist(rbind(A[i, ], B, \"euclidian\")):\n",
      "\"number of items to replace is not a multiple of replacement length\"Warning message in dist(rbind(A[i, ], B, \"euclidian\")):\n",
      "\"강제형변환에 의해 생성된 NA 입니다\"Warning message in distance[i] <- dist(rbind(A[i, ], B, \"euclidian\")):\n",
      "\"number of items to replace is not a multiple of replacement length\"Warning message in dist(rbind(A[i, ], B, \"euclidian\")):\n",
      "\"강제형변환에 의해 생성된 NA 입니다\"Warning message in distance[i] <- dist(rbind(A[i, ], B, \"euclidian\")):\n",
      "\"number of items to replace is not a multiple of replacement length\"Warning message in dist(rbind(A[i, ], B, \"euclidian\")):\n",
      "\"강제형변환에 의해 생성된 NA 입니다\"Warning message in distance[i] <- dist(rbind(A[i, ], B, \"euclidian\")):\n",
      "\"number of items to replace is not a multiple of replacement length\"Warning message in dist(rbind(A[i, ], B, \"euclidian\")):\n",
      "\"강제형변환에 의해 생성된 NA 입니다\"Warning message in distance[i] <- dist(rbind(A[i, ], B, \"euclidian\")):\n"
     ]
    },
    {
     "name": "stderr",
     "output_type": "stream",
     "text": [
      "\"number of items to replace is not a multiple of replacement length\"Warning message in dist(rbind(A[i, ], B, \"euclidian\")):\n",
      "\"강제형변환에 의해 생성된 NA 입니다\"Warning message in distance[i] <- dist(rbind(A[i, ], B, \"euclidian\")):\n",
      "\"number of items to replace is not a multiple of replacement length\"Warning message in dist(rbind(A[i, ], B, \"euclidian\")):\n",
      "\"강제형변환에 의해 생성된 NA 입니다\"Warning message in distance[i] <- dist(rbind(A[i, ], B, \"euclidian\")):\n",
      "\"number of items to replace is not a multiple of replacement length\"Warning message in dist(rbind(A[i, ], B, \"euclidian\")):\n",
      "\"강제형변환에 의해 생성된 NA 입니다\"Warning message in distance[i] <- dist(rbind(A[i, ], B, \"euclidian\")):\n",
      "\"number of items to replace is not a multiple of replacement length\""
     ]
    },
    {
     "ename": "ERROR",
     "evalue": "Error in sqldf(\"SELECT * FROM scores WHERE rank <= 10 ORDER BY rank limit 10\"): 함수 \"sqldf\"를 찾을 수 없습니다\n",
     "output_type": "error",
     "traceback": [
      "Error in sqldf(\"SELECT * FROM scores WHERE rank <= 10 ORDER BY rank limit 10\"): 함수 \"sqldf\"를 찾을 수 없습니다\nTraceback:\n",
      "1. euclid_recommend(\"US\", 40)"
     ]
    }
   ],
   "source": [
    "#------------------------------------------------------------------------------\n",
    "# 결과비교\n",
    "scores = sample[c(1,11,12,13,14,15)]\n",
    "r1 = euclid_recommend('US',40)\n",
    "r2 = cosine_recommend('US',40)"
   ]
  },
  {
   "cell_type": "code",
   "execution_count": 17,
   "metadata": {},
   "outputs": [
    {
     "ename": "ERROR",
     "evalue": "Error in score(r1): 객체 'r1'를 찾을 수 없습니다\n",
     "output_type": "error",
     "traceback": [
      "Error in score(r1): 객체 'r1'를 찾을 수 없습니다\nTraceback:\n",
      "1. score(r1)"
     ]
    },
    {
     "ename": "ERROR",
     "evalue": "Error in eval(expr, envir, enclos): 객체 'ed_score'를 찾을 수 없습니다\n",
     "output_type": "error",
     "traceback": [
      "Error in eval(expr, envir, enclos): 객체 'ed_score'를 찾을 수 없습니다\nTraceback:\n"
     ]
    }
   ],
   "source": [
    "#------------------------------------------------------------------------------\n",
    "#07.[목적 : 오차절대값의 평균을 사용한 추천성능측정함수]\n",
    "# 성능측정\n",
    "# 소비자응답(ANS)와 01.유클리드거리, 02.코사인유사도를 사용한 추천 결과의\n",
    "# R_fruity,W_fruity,floral,herb_vege,oak,rank의 SUM(ABS(오차))/(개수)로 오차평균비교\n",
    "# 작을수록 정확함을 나타낸다.\n",
    "\n",
    "score = function(result){\n",
    "  wines = result$title #추천함수결과에서 와인명 추출\n",
    "  taste_table = subset(scores,title%in%wines) #맛지표테이블에서 추천된 와인 지표 추출\n",
    "  matrix_t = as.matrix(taste_table[c(-1)]) #와인명 제외 매트릭스화\n",
    "  ans = as.matrix(ANS[c(-1,-2)]) #소비자취향 매트릭스화(학번,이름제외)\n",
    "  matrix_ans = matrix(rep(ans,dim(matrix_t)[1]),dim(matrix_t)[1],5,T) #연산을위해 매트릭스 차원 동일화\n",
    "  score = sum(abs(matrix_t-matrix_ans))/dim(matrix_t)[1] # SUM(ABS(오차))의 평균\n",
    "  return(score)\n",
    "}\n",
    "ed_score = score(r1);ed_score #1.447619\n",
    "cs_score = score(r2);cs_score #3.988095"
   ]
  },
  {
   "cell_type": "code",
   "execution_count": 9,
   "metadata": {},
   "outputs": [
    {
     "ename": "ERROR",
     "evalue": "Error in euclid_recommend(\"US\", 40): 객체 'ANS'를 찾을 수 없습니다\n",
     "output_type": "error",
     "traceback": [
      "Error in euclid_recommend(\"US\", 40): 객체 'ANS'를 찾을 수 없습니다\nTraceback:\n",
      "1. euclid_recommend(\"US\", 40)"
     ]
    },
    {
     "ename": "ERROR",
     "evalue": "Error in euclid_recommend(\"Spain\", 40): 객체 'ANS'를 찾을 수 없습니다\n",
     "output_type": "error",
     "traceback": [
      "Error in euclid_recommend(\"Spain\", 40): 객체 'ANS'를 찾을 수 없습니다\nTraceback:\n",
      "1. euclid_recommend(\"Spain\", 40)"
     ]
    },
    {
     "ename": "ERROR",
     "evalue": "Error in euclid_recommend(\"France\", 40): 객체 'ANS'를 찾을 수 없습니다\n",
     "output_type": "error",
     "traceback": [
      "Error in euclid_recommend(\"France\", 40): 객체 'ANS'를 찾을 수 없습니다\nTraceback:\n",
      "1. euclid_recommend(\"France\", 40)"
     ]
    },
    {
     "ename": "ERROR",
     "evalue": "Error in euclid_recommend(\"Italy\", 40): 객체 'ANS'를 찾을 수 없습니다\n",
     "output_type": "error",
     "traceback": [
      "Error in euclid_recommend(\"Italy\", 40): 객체 'ANS'를 찾을 수 없습니다\nTraceback:\n",
      "1. euclid_recommend(\"Italy\", 40)"
     ]
    },
    {
     "ename": "ERROR",
     "evalue": "Error in euclid_recommend(\"Chile\", 40): 객체 'ANS'를 찾을 수 없습니다\n",
     "output_type": "error",
     "traceback": [
      "Error in euclid_recommend(\"Chile\", 40): 객체 'ANS'를 찾을 수 없습니다\nTraceback:\n",
      "1. euclid_recommend(\"Chile\", 40)"
     ]
    }
   ],
   "source": [
    "#------------------------------------------------------------------------------\n",
    "# 더욱 정확한 성능 비교를 위해 US,SPAIN,FRANCE,Italy,Chile를 선택하여 K-fold 비교\n",
    "e1 = euclid_recommend('US',40); e2 = euclid_recommend('Spain',40);e3 = euclid_recommend('France',40);e4=euclid_recommend('Italy',40);e5=euclid_recommend('Chile',40)\n",
    "es1=score(e1) ;es1 #1.447619\n",
    "es2=score(e2) ;es2 #1.678571\n",
    "es3=score(e3) ;es3 #2.42619\n",
    "es4=score(e4) ;es4 #1.985714\n",
    "es5=score(e5) ;es5 #2.25\n",
    "Euclid_score = mean(c(es1,es2,es3,es4,es5))\n",
    "\n",
    "c1 = cosine_recommend('US',40); c2 = cosine_recommend('Spain',40);c3 = cosine_recommend('France',40);c4=cosine_recommend('Italy',40);c5=cosine_recommend('Chile',40)\n",
    "cs1=score(c1);cs1 #3.988095\n",
    "cs2=score(c2);cs2 #3.571429\n",
    "cs3=score(c3);cs3 #4.525974\n",
    "cs4=score(c4);cs4 #4.148352\n",
    "cs5=score(c5);cs5 #3.636364\n",
    "Cosine_score = mean(c(cs1,cs2,cs3,cs4,cs5))\n",
    "\n",
    "Euclid_score;Cosine_score #1.957619 / 3.974043"
   ]
  },
  {
   "cell_type": "code",
   "execution_count": 18,
   "metadata": {},
   "outputs": [],
   "source": [
    "#------------------------------------------------------------------------------\n",
    "#09.[결론 및 한계]\n",
    "# 1.와인생산국,2.가격(달러기준),3.사용자입력취향을 고려한 와인추천함수를 제작하였다.\n",
    "# 사용자성향의 크기와 방향을 모두 고려하기 위해 추천함수를 1.유클리드거리, 2.코사인 유사도를사용하여 만들었다.\n",
    "# 유클리드거리를 사용한 함수의 정확도가 더 높게 나왔는데 \n",
    "# 이는 코사인유사도는 방향의 유사성을 측정할 뿐, 크기를 고려하지 않기 때문에 차이가 발생한 것으로 예상된다.\n",
    "# * 함수의 성능은 정확도 뿐 아니라 속도도 고려해야 하지만 속도에 대한 부분은 포함되지 않았다.\n",
    "# 황상선."
   ]
  },
  {
   "cell_type": "code",
   "execution_count": 23,
   "metadata": {},
   "outputs": [
    {
     "ename": "ERROR",
     "evalue": "Error in library(sqldf): there is no package called 'sqldf'\n",
     "output_type": "error",
     "traceback": [
      "Error in library(sqldf): there is no package called 'sqldf'\nTraceback:\n",
      "1. library(sqldf)"
     ]
    }
   ],
   "source": []
  }
 ],
 "metadata": {
  "kernelspec": {
   "display_name": "R",
   "language": "R",
   "name": "ir"
  },
  "language_info": {
   "codemirror_mode": "r",
   "file_extension": ".r",
   "mimetype": "text/x-r-source",
   "name": "R",
   "pygments_lexer": "r",
   "version": "3.6.0"
  }
 },
 "nbformat": 4,
 "nbformat_minor": 2
}
